{
 "cells": [
  {
   "cell_type": "markdown",
   "metadata": {
    "id": "VkHrI7C_1rHo"
   },
   "source": [
    "# Twitter Sentiment Analysis"
   ]
  },
  {
   "cell_type": "markdown",
   "metadata": {
    "id": "QdvLcgeF14gQ"
   },
   "source": [
    "### Shunji Wan, 05/07/2023"
   ]
  },
  {
   "cell_type": "markdown",
   "metadata": {
    "id": "uhXeBw2H5TJf"
   },
   "source": [
    "<a id=\"0\"></a> <br>\n",
    " ## Table of Contents  \n",
    "- [Problem Statement](#1)\n",
    "- [Data Collection and Preprocessing](#2)\n",
    "    1. [Kaggle Dataset](#3)\n",
    "    2. [Exploratory Data Analysis](#4)\n",
    "    3. [Text Preprocessing](#5)\n",
    "- [Data Modeling Preparation](#6)\n",
    "- [Linear Classification Models](#7)\n",
    "    1. [Logistic Regression](#8)\n",
    "    2. [Support Vector Machine](#9)\n",
    "- [Recurrent Neural Networks](#10)\n",
    "    1. [Tokenization and Sequence Padding](#11)\n",
    "    2. [Bidirectional GRU Model](#12)\n",
    "    2. [Bidirectional LSTM Model](#13)\n",
    "- [BERT](#14)"
   ]
  },
  {
   "cell_type": "markdown",
   "metadata": {
    "id": "IqFUVrLF6th2"
   },
   "source": [
    "<a id=\"1\"></a>\n",
    "## Problem Statement"
   ]
  },
  {
   "cell_type": "markdown",
   "metadata": {
    "id": "GWWKKh6374KX"
   },
   "source": [
    "Natural Language Processing (NLP) focuses on analyzing natural language using text and speech data. It is a field that utilizes techniques from numerous subjects to develop models that could enable computers to understand human language. Applications of NLP include machine translation, text generation, speech recognition, etc., and in this project, we will explore sentiment analysis.\n",
    "\n",
    "Sentiment analysis aims to determine the emotion behind texts, and it is usually a classification task. It can be done using models that are trained on datasets labeled with sentiment types such as positive, neutral, or negative. Sentiment analysis is useful in a variety of settings. For instance, companies can use sentiment analysis to understand customer opinions on their products and services and thus identify areas to improve.\n",
    "\n",
    "In this project, we obtained an entity-level sentiment analysis dataset of Twitter from Kaggle. Our objective is to develop models that can classify tweets into positive, negative, and neutral sentiment categories. We will train several linear models and neural networks and compare their performance based on the accuracy scores with the goal of identifying the most effective approach for sentiment classification of tweets."
   ]
  },
  {
   "cell_type": "markdown",
   "metadata": {
    "id": "csFOKcvt2FoG"
   },
   "source": [
    "<a id=\"2\"></a>\n",
    "## Data Collection and Preprocessing"
   ]
  },
  {
   "cell_type": "markdown",
   "metadata": {
    "id": "z1WvYXYU5nrH"
   },
   "source": [
    "<a id=\"3\"></a>\n",
    "### 1. Kaggle Dataset"
   ]
  },
  {
   "cell_type": "code",
   "execution_count": 2,
   "metadata": {
    "colab": {
     "base_uri": "https://localhost:8080/"
    },
    "id": "xYGbK-aAKCrD",
    "outputId": "ef689db4-7c4b-4946-ebec-ddf20c0e80b5"
   },
   "outputs": [],
   "source": [
    "import pandas as pd\n",
    "import numpy as np\n",
    "# !pip install opendatasets\n",
    "import opendatasets as od # for downloading datasets from url"
   ]
  },
  {
   "cell_type": "markdown",
   "metadata": {
    "id": "D95iymyrVcX9"
   },
   "source": [
    "We start with downloading data from Kaggle using its API."
   ]
  },
  {
   "cell_type": "code",
   "execution_count": 77,
   "metadata": {
    "colab": {
     "base_uri": "https://localhost:8080/"
    },
    "id": "h8NcfYsiIM3O",
    "outputId": "01db7104-f1a0-44f5-c73f-ab7d7a0ab867"
   },
   "outputs": [
    {
     "name": "stdout",
     "output_type": "stream",
     "text": [
      "Skipping, found downloaded files in \"./twitter-entity-sentiment-analysis\" (use force=True to force download)\n"
     ]
    }
   ],
   "source": [
    "url = 'https://www.kaggle.com/datasets/jp797498e/twitter-entity-sentiment-analysis/download?datasetVersionNumber=2'\n",
    "\n",
    "od.download(url)\n",
    "\n",
    "twitter_training_df = pd.read_csv('./twitter-entity-sentiment-analysis/twitter_training.csv', \n",
    "                                  names=['id', 'entity', 'sentiment', 'content'])\n",
    "\n",
    "twitter_validation_df = pd.read_csv('./twitter-entity-sentiment-analysis/twitter_validation.csv', \n",
    "                                    names=['id', 'entity', 'sentiment', 'content'])"
   ]
  },
  {
   "cell_type": "markdown",
   "metadata": {
    "id": "OMZ6Z6ynWOd-"
   },
   "source": [
    "The folder contains two datasets, one for training and the other one for validation.\n",
    "\n",
    "The given training and validation sets are disproportionate and yet we don't have the test set.\n",
    "\n",
    "Given this, we concatenate these two files and will do the train-test split later in this project.\n",
    "\n",
    "We take a look at the concatenated dataset."
   ]
  },
  {
   "cell_type": "code",
   "execution_count": 78,
   "metadata": {
    "colab": {
     "base_uri": "https://localhost:8080/",
     "height": 206
    },
    "id": "T-_G-r7FLwxZ",
    "outputId": "d5100dd3-bdf4-4a04-f174-291df4731d43"
   },
   "outputs": [
    {
     "data": {
      "text/html": [
       "\n",
       "  <div id=\"df-f3b4127f-ffae-4707-94bb-77ccee6aecb9\">\n",
       "    <div class=\"colab-df-container\">\n",
       "      <div>\n",
       "<style scoped>\n",
       "    .dataframe tbody tr th:only-of-type {\n",
       "        vertical-align: middle;\n",
       "    }\n",
       "\n",
       "    .dataframe tbody tr th {\n",
       "        vertical-align: top;\n",
       "    }\n",
       "\n",
       "    .dataframe thead th {\n",
       "        text-align: right;\n",
       "    }\n",
       "</style>\n",
       "<table border=\"1\" class=\"dataframe\">\n",
       "  <thead>\n",
       "    <tr style=\"text-align: right;\">\n",
       "      <th></th>\n",
       "      <th>id</th>\n",
       "      <th>entity</th>\n",
       "      <th>sentiment</th>\n",
       "      <th>content</th>\n",
       "    </tr>\n",
       "  </thead>\n",
       "  <tbody>\n",
       "    <tr>\n",
       "      <th>0</th>\n",
       "      <td>2401</td>\n",
       "      <td>Borderlands</td>\n",
       "      <td>Positive</td>\n",
       "      <td>im getting on borderlands and i will murder yo...</td>\n",
       "    </tr>\n",
       "    <tr>\n",
       "      <th>1</th>\n",
       "      <td>2401</td>\n",
       "      <td>Borderlands</td>\n",
       "      <td>Positive</td>\n",
       "      <td>I am coming to the borders and I will kill you...</td>\n",
       "    </tr>\n",
       "    <tr>\n",
       "      <th>2</th>\n",
       "      <td>2401</td>\n",
       "      <td>Borderlands</td>\n",
       "      <td>Positive</td>\n",
       "      <td>im getting on borderlands and i will kill you ...</td>\n",
       "    </tr>\n",
       "    <tr>\n",
       "      <th>3</th>\n",
       "      <td>2401</td>\n",
       "      <td>Borderlands</td>\n",
       "      <td>Positive</td>\n",
       "      <td>im coming on borderlands and i will murder you...</td>\n",
       "    </tr>\n",
       "    <tr>\n",
       "      <th>4</th>\n",
       "      <td>2401</td>\n",
       "      <td>Borderlands</td>\n",
       "      <td>Positive</td>\n",
       "      <td>im getting on borderlands 2 and i will murder ...</td>\n",
       "    </tr>\n",
       "  </tbody>\n",
       "</table>\n",
       "</div>\n",
       "      <button class=\"colab-df-convert\" onclick=\"convertToInteractive('df-f3b4127f-ffae-4707-94bb-77ccee6aecb9')\"\n",
       "              title=\"Convert this dataframe to an interactive table.\"\n",
       "              style=\"display:none;\">\n",
       "        \n",
       "  <svg xmlns=\"http://www.w3.org/2000/svg\" height=\"24px\"viewBox=\"0 0 24 24\"\n",
       "       width=\"24px\">\n",
       "    <path d=\"M0 0h24v24H0V0z\" fill=\"none\"/>\n",
       "    <path d=\"M18.56 5.44l.94 2.06.94-2.06 2.06-.94-2.06-.94-.94-2.06-.94 2.06-2.06.94zm-11 1L8.5 8.5l.94-2.06 2.06-.94-2.06-.94L8.5 2.5l-.94 2.06-2.06.94zm10 10l.94 2.06.94-2.06 2.06-.94-2.06-.94-.94-2.06-.94 2.06-2.06.94z\"/><path d=\"M17.41 7.96l-1.37-1.37c-.4-.4-.92-.59-1.43-.59-.52 0-1.04.2-1.43.59L10.3 9.45l-7.72 7.72c-.78.78-.78 2.05 0 2.83L4 21.41c.39.39.9.59 1.41.59.51 0 1.02-.2 1.41-.59l7.78-7.78 2.81-2.81c.8-.78.8-2.07 0-2.86zM5.41 20L4 18.59l7.72-7.72 1.47 1.35L5.41 20z\"/>\n",
       "  </svg>\n",
       "      </button>\n",
       "      \n",
       "  <style>\n",
       "    .colab-df-container {\n",
       "      display:flex;\n",
       "      flex-wrap:wrap;\n",
       "      gap: 12px;\n",
       "    }\n",
       "\n",
       "    .colab-df-convert {\n",
       "      background-color: #E8F0FE;\n",
       "      border: none;\n",
       "      border-radius: 50%;\n",
       "      cursor: pointer;\n",
       "      display: none;\n",
       "      fill: #1967D2;\n",
       "      height: 32px;\n",
       "      padding: 0 0 0 0;\n",
       "      width: 32px;\n",
       "    }\n",
       "\n",
       "    .colab-df-convert:hover {\n",
       "      background-color: #E2EBFA;\n",
       "      box-shadow: 0px 1px 2px rgba(60, 64, 67, 0.3), 0px 1px 3px 1px rgba(60, 64, 67, 0.15);\n",
       "      fill: #174EA6;\n",
       "    }\n",
       "\n",
       "    [theme=dark] .colab-df-convert {\n",
       "      background-color: #3B4455;\n",
       "      fill: #D2E3FC;\n",
       "    }\n",
       "\n",
       "    [theme=dark] .colab-df-convert:hover {\n",
       "      background-color: #434B5C;\n",
       "      box-shadow: 0px 1px 3px 1px rgba(0, 0, 0, 0.15);\n",
       "      filter: drop-shadow(0px 1px 2px rgba(0, 0, 0, 0.3));\n",
       "      fill: #FFFFFF;\n",
       "    }\n",
       "  </style>\n",
       "\n",
       "      <script>\n",
       "        const buttonEl =\n",
       "          document.querySelector('#df-f3b4127f-ffae-4707-94bb-77ccee6aecb9 button.colab-df-convert');\n",
       "        buttonEl.style.display =\n",
       "          google.colab.kernel.accessAllowed ? 'block' : 'none';\n",
       "\n",
       "        async function convertToInteractive(key) {\n",
       "          const element = document.querySelector('#df-f3b4127f-ffae-4707-94bb-77ccee6aecb9');\n",
       "          const dataTable =\n",
       "            await google.colab.kernel.invokeFunction('convertToInteractive',\n",
       "                                                     [key], {});\n",
       "          if (!dataTable) return;\n",
       "\n",
       "          const docLinkHtml = 'Like what you see? Visit the ' +\n",
       "            '<a target=\"_blank\" href=https://colab.research.google.com/notebooks/data_table.ipynb>data table notebook</a>'\n",
       "            + ' to learn more about interactive tables.';\n",
       "          element.innerHTML = '';\n",
       "          dataTable['output_type'] = 'display_data';\n",
       "          await google.colab.output.renderOutput(dataTable, element);\n",
       "          const docLink = document.createElement('div');\n",
       "          docLink.innerHTML = docLinkHtml;\n",
       "          element.appendChild(docLink);\n",
       "        }\n",
       "      </script>\n",
       "    </div>\n",
       "  </div>\n",
       "  "
      ],
      "text/plain": [
       "     id       entity sentiment  \\\n",
       "0  2401  Borderlands  Positive   \n",
       "1  2401  Borderlands  Positive   \n",
       "2  2401  Borderlands  Positive   \n",
       "3  2401  Borderlands  Positive   \n",
       "4  2401  Borderlands  Positive   \n",
       "\n",
       "                                             content  \n",
       "0  im getting on borderlands and i will murder yo...  \n",
       "1  I am coming to the borders and I will kill you...  \n",
       "2  im getting on borderlands and i will kill you ...  \n",
       "3  im coming on borderlands and i will murder you...  \n",
       "4  im getting on borderlands 2 and i will murder ...  "
      ]
     },
     "execution_count": 78,
     "metadata": {},
     "output_type": "execute_result"
    }
   ],
   "source": [
    "twitter_df = pd.concat([twitter_training_df, twitter_validation_df])\n",
    "twitter_df.head()"
   ]
  },
  {
   "cell_type": "markdown",
   "metadata": {
    "id": "x8Qu9UhjXMZJ"
   },
   "source": [
    "There are four features in this dataset: `id`, `entity`, `sentiment`, and `content`.\n",
    "\n",
    "In this text classification project, we only need to take care of the last two features. \n",
    "\n",
    "Next, we take a look at how many samples we have got."
   ]
  },
  {
   "cell_type": "code",
   "execution_count": 79,
   "metadata": {
    "colab": {
     "base_uri": "https://localhost:8080/"
    },
    "id": "noUGZdaZJE5f",
    "outputId": "a54db259-7a90-431b-f31a-31697109d0ce"
   },
   "outputs": [
    {
     "data": {
      "text/plain": [
       "74996"
      ]
     },
     "execution_count": 79,
     "metadata": {},
     "output_type": "execute_result"
    }
   ],
   "source": [
    "twitter_df = twitter_df.dropna()\n",
    "len(twitter_df)"
   ]
  },
  {
   "cell_type": "markdown",
   "metadata": {
    "id": "2vTUnBiFXwNP"
   },
   "source": [
    "There are plenty!\n",
    "\n",
    "This amount of samples is sufficient for training models - but the training speed for particular models can be expected to be really slow.\n",
    "\n",
    "We also explore data types and potential null values in the feature data."
   ]
  },
  {
   "cell_type": "code",
   "execution_count": 80,
   "metadata": {
    "colab": {
     "base_uri": "https://localhost:8080/"
    },
    "id": "ORBbWrsyMCic",
    "outputId": "058a08ce-b387-4905-aa33-7082e30d4f44"
   },
   "outputs": [
    {
     "name": "stdout",
     "output_type": "stream",
     "text": [
      "<class 'pandas.core.frame.DataFrame'>\n",
      "Int64Index: 74996 entries, 0 to 999\n",
      "Data columns (total 4 columns):\n",
      " #   Column     Non-Null Count  Dtype \n",
      "---  ------     --------------  ----- \n",
      " 0   id         74996 non-null  int64 \n",
      " 1   entity     74996 non-null  object\n",
      " 2   sentiment  74996 non-null  object\n",
      " 3   content    74996 non-null  object\n",
      "dtypes: int64(1), object(3)\n",
      "memory usage: 2.9+ MB\n"
     ]
    }
   ],
   "source": [
    "twitter_df.info()"
   ]
  },
  {
   "cell_type": "markdown",
   "metadata": {
    "id": "FmOZSuT1YaLb"
   },
   "source": [
    "Let's see what sentiments can tweets be labeled."
   ]
  },
  {
   "cell_type": "code",
   "execution_count": 81,
   "metadata": {
    "colab": {
     "base_uri": "https://localhost:8080/"
    },
    "id": "_yI1UZDyMtCl",
    "outputId": "46b3109a-cf60-4204-8fad-0aa74fb357f6"
   },
   "outputs": [
    {
     "data": {
      "text/plain": [
       "['Positive', 'Neutral', 'Negative', 'Irrelevant']"
      ]
     },
     "execution_count": 81,
     "metadata": {},
     "output_type": "execute_result"
    }
   ],
   "source": [
    "twitter_df.sentiment.unique().tolist()"
   ]
  },
  {
   "cell_type": "markdown",
   "metadata": {
    "id": "towxHa9HY-LQ"
   },
   "source": [
    "Sentiment can be `Positive`, `Neutral`, `Negative` or `Irrelevant`.\n",
    "\n",
    "`Irrelevant` means that the tweet has nothing to do with its labeled entity. We can regard them as of neutral sentiment.\n",
    "\n",
    "Replace all `Irrelevant` entries with `Neutral`."
   ]
  },
  {
   "cell_type": "code",
   "execution_count": 82,
   "metadata": {
    "id": "fK3bjchTM6x-"
   },
   "outputs": [],
   "source": [
    "twitter_df['sentiment'] = twitter_df['sentiment'].replace('Irrelevant', 'Neutral')"
   ]
  },
  {
   "cell_type": "markdown",
   "metadata": {
    "id": "hKuucl9uaSBv"
   },
   "source": [
    "Make sure the `sentiment` feature now only has three unique values."
   ]
  },
  {
   "cell_type": "code",
   "execution_count": 83,
   "metadata": {
    "colab": {
     "base_uri": "https://localhost:8080/"
    },
    "id": "_DDkvrlxNoyf",
    "outputId": "3c8e64ab-807e-4bb1-e6f9-45388a7db64b"
   },
   "outputs": [
    {
     "name": "stdout",
     "output_type": "stream",
     "text": [
      "['Positive', 'Neutral', 'Negative']\n"
     ]
    }
   ],
   "source": [
    "sentiments = twitter_df.sentiment.unique().tolist()\n",
    "print(sentiments)"
   ]
  },
  {
   "cell_type": "markdown",
   "metadata": {
    "id": "WafiexnF2k3O"
   },
   "source": [
    "<a id=\"4\"></a>\n",
    "### 2. Exploratory Data Analysis"
   ]
  },
  {
   "cell_type": "code",
   "execution_count": 84,
   "metadata": {
    "id": "pkRB_QhPKCrJ"
   },
   "outputs": [],
   "source": [
    "import matplotlib.pyplot as plt\n",
    "import seaborn as sns"
   ]
  },
  {
   "cell_type": "markdown",
   "metadata": {
    "id": "HnzTMDTLa2qn"
   },
   "source": [
    "Next, we check whether our data is balanced with a pie chart."
   ]
  },
  {
   "cell_type": "code",
   "execution_count": 85,
   "metadata": {
    "colab": {
     "base_uri": "https://localhost:8080/",
     "height": 428
    },
    "id": "Gnv-rKbzNq1A",
    "outputId": "1e99c18b-8ff0-4a83-8b49-dc4867269b59"
   },
   "outputs": [
    {
     "data": {
      "image/png": "[encoded data removed]",
      "text/plain": [
       "<Figure size 640x480 with 1 Axes>"
      ]
     },
     "metadata": {},
     "output_type": "display_data"
    }
   ],
   "source": [
    "data = []\n",
    "\n",
    "for s in sentiments:\n",
    "  tweets = twitter_df[twitter_df['sentiment']==s]\n",
    "  num_tweets = len(tweets)\n",
    "  data.append(num_tweets)\n",
    "\n",
    "colors = sns.color_palette('pastel')[0:5]\n",
    "\n",
    "plt.pie(data, labels = sentiments, colors = colors, autopct='%.0f%%')\n",
    "plt.title(\"Tweets of Different Sentiments\")\n",
    "plt.show()"
   ]
  },
  {
   "cell_type": "markdown",
   "metadata": {
    "id": "k5VXZUgtbLO1"
   },
   "source": [
    "Although there are 42% tweets are of neutral sentiment, our data is in general fairly balanced.\n",
    "\n",
    "If the data is significantly imbalanced, the accuracy scores of models may not be promising.\n",
    "\n",
    "Then, we visualize within each sentiment, how tweets length is distributed."
   ]
  },
  {
   "cell_type": "code",
   "execution_count": 86,
   "metadata": {
    "colab": {
     "base_uri": "https://localhost:8080/",
     "height": 391
    },
    "id": "BRgx8p0jSfg2",
    "outputId": "971c61e9-e051-46f0-be83-0729ef4f4161"
   },
   "outputs": [
    {
     "data": {
      "image/png": "[encoded data removed]",
      "text/plain": [
       "<Figure size 1000x400 with 3 Axes>"
      ]
     },
     "metadata": {},
     "output_type": "display_data"
    }
   ],
   "source": [
    "_,axss = plt.subplots(1,3, figsize=[10,4])\n",
    "idx = 0\n",
    "\n",
    "for s in sentiments:\n",
    "  length = [len(tweet.split()) for tweet in \n",
    "            twitter_df[twitter_df['sentiment']==s]['content']]\n",
    "  sns.histplot(length,ax=axss[idx]).set(title=s)\n",
    "  idx+=1"
   ]
  },
  {
   "cell_type": "markdown",
   "metadata": {
    "id": "mziNyU5R2Rdu"
   },
   "source": [
    "<a id=\"5\"></a>\n",
    "### 3. Text Preprocessing"
   ]
  },
  {
   "cell_type": "code",
   "execution_count": 1,
   "metadata": {
    "colab": {
     "base_uri": "https://localhost:8080/"
    },
    "id": "BrDB1c17TYRl",
    "outputId": "f206f10f-156c-4cdf-ef43-4995fde43f10"
   },
   "outputs": [],
   "source": [
    "import re\n",
    "import nltk # for NLP\n",
    "# nltk.download('punkt')\n",
    "# nltk.download('stopwords')\n",
    "# nltk.download('wordnet')\n",
    "from nltk.corpus import stopwords\n",
    "from nltk.tokenize import word_tokenize\n",
    "from nltk.stem import WordNetLemmatizer"
   ]
  },
  {
   "cell_type": "markdown",
   "metadata": {
    "id": "U3npEUnYKCrL"
   },
   "source": [
    "Preprocessing is a crucial step in the text classification task. It helps to reduce the complexity and thus makes it easier for algorithms to identify patterns and relationships between the words and phrases. Text preprocessing, in our case, for tweets, involves the following steps:\n",
    "\n",
    "- __*Removing URL*__\n",
    "- __*Removing numbers and punctuation*__\n",
    "- __*Converting characters into lowercase*__\n",
    "- __*Tokenization*__\n",
    "- __*Removing stopwords*__\n",
    "- __*Stemming or Lemmatization*__\n",
    "- __*Removing words of particular length*__\n",
    "- __*Converting tokens back to sentences*__\n",
    "\n",
    "Some clarifications:\n",
    "\n",
    "We convert characters into lowercase because, for instance, the models will understand _\"tweet\"_ and _\"Tweet\"_ as two separate words.\n",
    "\n",
    "Stopwords are common words in a language like _\"the\"_, _\"a\"_, _\"is\"_, _\"to\"_ which do not carry much information, and therefore, we remove them as well.\n",
    "\n",
    "Both stemming and lemmatization normalize corpus by reducing the inflectional forms of each word into a common base or root. Stemming usually chops off the ends of words and removes derivational units, and lemmatization returns the base or dictionary form of a word. Consider the word _\"flew\"_ - stemming will process it as _\"fl\"_ while lemmatization will return _\"fly\"_. As stemming may create new words with ambiguous meaning, we use lemmatization.\n",
    "\n",
    "We remove words of, usually, length shorter than 2, especially given that we are dealing with tweets. Because, for instance, if someone typed _\"L O L\"_, the models will understand it as three individual characters, which give us no information but extra noises.\n",
    "\n",
    "Now, we define the preprocessing function for texts given our scheme."
   ]
  },
  {
   "cell_type": "code",
   "execution_count": 88,
   "metadata": {
    "id": "UJdPBtgYKCrL"
   },
   "outputs": [],
   "source": [
    "def text_preprocessor(text):\n",
    "    # remove ULR\n",
    "    text = re.sub(r'http\\S+','',text)\n",
    "    # remove special characters\n",
    "    text = re.sub('[^a-zA-Z]',' ',text)\n",
    "    # lowercase conversion\n",
    "    text = text.lower()\n",
    "    # tokenization\n",
    "    words = word_tokenize(text)\n",
    "    # remove stopwords\n",
    "    words = [word for word in words if word not in stopwords.words('english')]\n",
    "    # lemmatization\n",
    "    words = [WordNetLemmatizer().lemmatize(word=word,pos='v') for word in words]\n",
    "    # remove words with 2 or fewer characters\n",
    "    words = [word for word in words if len(word) > 2]\n",
    "    # put words back to a sentence\n",
    "    return ' '.join(words)"
   ]
  },
  {
   "cell_type": "markdown",
   "metadata": {
    "id": "0ik37BaYKCrL"
   },
   "source": [
    "We apply the preprocessing function to all tweets in the dataset."
   ]
  },
  {
   "cell_type": "code",
   "execution_count": 89,
   "metadata": {
    "id": "A_1ErDVsUtHB"
   },
   "outputs": [],
   "source": [
    "twitter_df['cleaned_content'] = twitter_df['content'].apply(text_preprocessor)"
   ]
  },
  {
   "cell_type": "markdown",
   "metadata": {
    "id": "Dx7jI48qKCrM"
   },
   "source": [
    "Preprocessing may result in some empty sentences. We filter them out and take a look at the dataset."
   ]
  },
  {
   "cell_type": "code",
   "execution_count": 90,
   "metadata": {
    "colab": {
     "base_uri": "https://localhost:8080/",
     "height": 206
    },
    "id": "fG9Dr5Vh78Bb",
    "outputId": "a7b1bb5f-5788-4931-ccb3-40599481af5f"
   },
   "outputs": [
    {
     "data": {
      "text/html": [
       "\n",
       "  <div id=\"df-bf9c5a6a-1f59-4332-a2a8-adb5971a7717\">\n",
       "    <div class=\"colab-df-container\">\n",
       "      <div>\n",
       "<style scoped>\n",
       "    .dataframe tbody tr th:only-of-type {\n",
       "        vertical-align: middle;\n",
       "    }\n",
       "\n",
       "    .dataframe tbody tr th {\n",
       "        vertical-align: top;\n",
       "    }\n",
       "\n",
       "    .dataframe thead th {\n",
       "        text-align: right;\n",
       "    }\n",
       "</style>\n",
       "<table border=\"1\" class=\"dataframe\">\n",
       "  <thead>\n",
       "    <tr style=\"text-align: right;\">\n",
       "      <th></th>\n",
       "      <th>id</th>\n",
       "      <th>entity</th>\n",
       "      <th>sentiment</th>\n",
       "      <th>content</th>\n",
       "      <th>cleaned_content</th>\n",
       "    </tr>\n",
       "  </thead>\n",
       "  <tbody>\n",
       "    <tr>\n",
       "      <th>0</th>\n",
       "      <td>2401</td>\n",
       "      <td>Borderlands</td>\n",
       "      <td>Positive</td>\n",
       "      <td>im getting on borderlands and i will murder yo...</td>\n",
       "      <td>get borderlands murder</td>\n",
       "    </tr>\n",
       "    <tr>\n",
       "      <th>1</th>\n",
       "      <td>2401</td>\n",
       "      <td>Borderlands</td>\n",
       "      <td>Positive</td>\n",
       "      <td>I am coming to the borders and I will kill you...</td>\n",
       "      <td>come border kill</td>\n",
       "    </tr>\n",
       "    <tr>\n",
       "      <th>2</th>\n",
       "      <td>2401</td>\n",
       "      <td>Borderlands</td>\n",
       "      <td>Positive</td>\n",
       "      <td>im getting on borderlands and i will kill you ...</td>\n",
       "      <td>get borderlands kill</td>\n",
       "    </tr>\n",
       "    <tr>\n",
       "      <th>3</th>\n",
       "      <td>2401</td>\n",
       "      <td>Borderlands</td>\n",
       "      <td>Positive</td>\n",
       "      <td>im coming on borderlands and i will murder you...</td>\n",
       "      <td>come borderlands murder</td>\n",
       "    </tr>\n",
       "    <tr>\n",
       "      <th>4</th>\n",
       "      <td>2401</td>\n",
       "      <td>Borderlands</td>\n",
       "      <td>Positive</td>\n",
       "      <td>im getting on borderlands 2 and i will murder ...</td>\n",
       "      <td>get borderlands murder</td>\n",
       "    </tr>\n",
       "  </tbody>\n",
       "</table>\n",
       "</div>\n",
       "      <button class=\"colab-df-convert\" onclick=\"convertToInteractive('df-bf9c5a6a-1f59-4332-a2a8-adb5971a7717')\"\n",
       "              title=\"Convert this dataframe to an interactive table.\"\n",
       "              style=\"display:none;\">\n",
       "        \n",
       "  <svg xmlns=\"http://www.w3.org/2000/svg\" height=\"24px\"viewBox=\"0 0 24 24\"\n",
       "       width=\"24px\">\n",
       "    <path d=\"M0 0h24v24H0V0z\" fill=\"none\"/>\n",
       "    <path d=\"M18.56 5.44l.94 2.06.94-2.06 2.06-.94-2.06-.94-.94-2.06-.94 2.06-2.06.94zm-11 1L8.5 8.5l.94-2.06 2.06-.94-2.06-.94L8.5 2.5l-.94 2.06-2.06.94zm10 10l.94 2.06.94-2.06 2.06-.94-2.06-.94-.94-2.06-.94 2.06-2.06.94z\"/><path d=\"M17.41 7.96l-1.37-1.37c-.4-.4-.92-.59-1.43-.59-.52 0-1.04.2-1.43.59L10.3 9.45l-7.72 7.72c-.78.78-.78 2.05 0 2.83L4 21.41c.39.39.9.59 1.41.59.51 0 1.02-.2 1.41-.59l7.78-7.78 2.81-2.81c.8-.78.8-2.07 0-2.86zM5.41 20L4 18.59l7.72-7.72 1.47 1.35L5.41 20z\"/>\n",
       "  </svg>\n",
       "      </button>\n",
       "      \n",
       "  <style>\n",
       "    .colab-df-container {\n",
       "      display:flex;\n",
       "      flex-wrap:wrap;\n",
       "      gap: 12px;\n",
       "    }\n",
       "\n",
       "    .colab-df-convert {\n",
       "      background-color: #E8F0FE;\n",
       "      border: none;\n",
       "      border-radius: 50%;\n",
       "      cursor: pointer;\n",
       "      display: none;\n",
       "      fill: #1967D2;\n",
       "      height: 32px;\n",
       "      padding: 0 0 0 0;\n",
       "      width: 32px;\n",
       "    }\n",
       "\n",
       "    .colab-df-convert:hover {\n",
       "      background-color: #E2EBFA;\n",
       "      box-shadow: 0px 1px 2px rgba(60, 64, 67, 0.3), 0px 1px 3px 1px rgba(60, 64, 67, 0.15);\n",
       "      fill: #174EA6;\n",
       "    }\n",
       "\n",
       "    [theme=dark] .colab-df-convert {\n",
       "      background-color: #3B4455;\n",
       "      fill: #D2E3FC;\n",
       "    }\n",
       "\n",
       "    [theme=dark] .colab-df-convert:hover {\n",
       "      background-color: #434B5C;\n",
       "      box-shadow: 0px 1px 3px 1px rgba(0, 0, 0, 0.15);\n",
       "      filter: drop-shadow(0px 1px 2px rgba(0, 0, 0, 0.3));\n",
       "      fill: #FFFFFF;\n",
       "    }\n",
       "  </style>\n",
       "\n",
       "      <script>\n",
       "        const buttonEl =\n",
       "          document.querySelector('#df-bf9c5a6a-1f59-4332-a2a8-adb5971a7717 button.colab-df-convert');\n",
       "        buttonEl.style.display =\n",
       "          google.colab.kernel.accessAllowed ? 'block' : 'none';\n",
       "\n",
       "        async function convertToInteractive(key) {\n",
       "          const element = document.querySelector('#df-bf9c5a6a-1f59-4332-a2a8-adb5971a7717');\n",
       "          const dataTable =\n",
       "            await google.colab.kernel.invokeFunction('convertToInteractive',\n",
       "                                                     [key], {});\n",
       "          if (!dataTable) return;\n",
       "\n",
       "          const docLinkHtml = 'Like what you see? Visit the ' +\n",
       "            '<a target=\"_blank\" href=https://colab.research.google.com/notebooks/data_table.ipynb>data table notebook</a>'\n",
       "            + ' to learn more about interactive tables.';\n",
       "          element.innerHTML = '';\n",
       "          dataTable['output_type'] = 'display_data';\n",
       "          await google.colab.output.renderOutput(dataTable, element);\n",
       "          const docLink = document.createElement('div');\n",
       "          docLink.innerHTML = docLinkHtml;\n",
       "          element.appendChild(docLink);\n",
       "        }\n",
       "      </script>\n",
       "    </div>\n",
       "  </div>\n",
       "  "
      ],
      "text/plain": [
       "     id       entity sentiment  \\\n",
       "0  2401  Borderlands  Positive   \n",
       "1  2401  Borderlands  Positive   \n",
       "2  2401  Borderlands  Positive   \n",
       "3  2401  Borderlands  Positive   \n",
       "4  2401  Borderlands  Positive   \n",
       "\n",
       "                                             content          cleaned_content  \n",
       "0  im getting on borderlands and i will murder yo...   get borderlands murder  \n",
       "1  I am coming to the borders and I will kill you...         come border kill  \n",
       "2  im getting on borderlands and i will kill you ...     get borderlands kill  \n",
       "3  im coming on borderlands and i will murder you...  come borderlands murder  \n",
       "4  im getting on borderlands 2 and i will murder ...   get borderlands murder  "
      ]
     },
     "execution_count": 90,
     "metadata": {},
     "output_type": "execute_result"
    }
   ],
   "source": [
    "twitter_df = twitter_df[twitter_df['cleaned_content'].apply(lambda x: len(x)) > 0]\n",
    "twitter_df.head()"
   ]
  },
  {
   "cell_type": "markdown",
   "metadata": {
    "id": "fo31msKVKCrM"
   },
   "source": [
    "Show some examples of preprocessing outputs."
   ]
  },
  {
   "cell_type": "code",
   "execution_count": 91,
   "metadata": {
    "colab": {
     "base_uri": "https://localhost:8080/"
    },
    "id": "vFKlEizEU3l5",
    "outputId": "1e544e81-f391-4991-9148-36ccf2a9a794"
   },
   "outputs": [
    {
     "name": "stdout",
     "output_type": "stream",
     "text": [
      "Orginal Tweet: im getting on borderlands and i will murder you all ,\n",
      "Cleaned Tweet: get borderlands murder\n",
      "\n",
      "Orginal Tweet: I am coming to the borders and I will kill you all,\n",
      "Cleaned Tweet: come border kill\n",
      "\n",
      "Orginal Tweet: im getting on borderlands and i will kill you all,\n",
      "Cleaned Tweet: get borderlands kill\n",
      "\n",
      "Orginal Tweet: im coming on borderlands and i will murder you all,\n",
      "Cleaned Tweet: come borderlands murder\n",
      "\n",
      "Orginal Tweet: im getting on borderlands 2 and i will murder you me all,\n",
      "Cleaned Tweet: get borderlands murder\n",
      "\n"
     ]
    }
   ],
   "source": [
    "for i in range(5):\n",
    "  content = twitter_df['content'].iloc[i]\n",
    "  cleaned = twitter_df['cleaned_content'].iloc[i]\n",
    "  print(\"Orginal Tweet: {content}\\nCleaned Tweet: {cleaned}\\n\".format(content=content,cleaned=cleaned))"
   ]
  },
  {
   "cell_type": "markdown",
   "metadata": {
    "id": "vApeEtXsKCrN"
   },
   "source": [
    "We visualize the length distribution of our cleaned tweets."
   ]
  },
  {
   "cell_type": "code",
   "execution_count": 92,
   "metadata": {
    "colab": {
     "base_uri": "https://localhost:8080/",
     "height": 391
    },
    "id": "Fh1lYXGCWTX3",
    "outputId": "0ac38108-02a9-41d5-bd2a-91e2b876ddf3"
   },
   "outputs": [
    {
     "data": {
      "image/png": "[encoded data removed]",
      "text/plain": [
       "<Figure size 1000x400 with 3 Axes>"
      ]
     },
     "metadata": {},
     "output_type": "display_data"
    }
   ],
   "source": [
    "_,axss = plt.subplots(1,3, figsize=[10,4])\n",
    "idx = 0\n",
    "\n",
    "for s in sentiments:\n",
    "  length = [len(tweet.split()) for tweet in \n",
    "            twitter_df[twitter_df['sentiment']==s]['cleaned_content']]\n",
    "  sns.histplot(length,ax=axss[idx]).set(title=s)\n",
    "  idx+=1"
   ]
  },
  {
   "cell_type": "markdown",
   "metadata": {
    "id": "YsUZb81t3YTR"
   },
   "source": [
    "<a id=\"6\"></a>\n",
    "## Data Modeling Preparation"
   ]
  },
  {
   "cell_type": "code",
   "execution_count": 93,
   "metadata": {
    "id": "CPRsa-gfKCrb"
   },
   "outputs": [],
   "source": [
    "from sklearn.preprocessing import LabelEncoder\n",
    "from sklearn.model_selection import train_test_split\n",
    "from sklearn.metrics import confusion_matrix"
   ]
  },
  {
   "cell_type": "markdown",
   "metadata": {
    "id": "QhqQKCrrKCrb"
   },
   "source": [
    "Done with preprocessing, our next step is to prepare the data for fitting models.\n",
    "\n",
    "We start with defining the maximum vocabulary size. By setting this rather than shooting the size to infinity, the model is forced to focus on the most important words and phrases in the text data, which can improve its ability to generalize observed patterns to new, unseen data."
   ]
  },
  {
   "cell_type": "code",
   "execution_count": 94,
   "metadata": {
    "id": "S3MODwsaKCrb"
   },
   "outputs": [],
   "source": [
    "MAX_VOCAB_SIZE = 50000"
   ]
  },
  {
   "cell_type": "markdown",
   "metadata": {
    "id": "au919whIKCrc"
   },
   "source": [
    "Then, we obtain the predictor, which is the cleaned tweets, and our target variable. We label encode the target."
   ]
  },
  {
   "cell_type": "code",
   "execution_count": 95,
   "metadata": {
    "id": "y_2XS7xTaM0I"
   },
   "outputs": [],
   "source": [
    "label_encoder = LabelEncoder()\n",
    "X = twitter_df['cleaned_content']\n",
    "Y = label_encoder.fit_transform(twitter_df['sentiment'])"
   ]
  },
  {
   "cell_type": "markdown",
   "metadata": {
    "id": "w3VcGIZHKCrc"
   },
   "source": [
    "We split the data into the training, test, and validation sets."
   ]
  },
  {
   "cell_type": "code",
   "execution_count": 96,
   "metadata": {
    "id": "XI5xEKDGKCrc"
   },
   "outputs": [],
   "source": [
    "Xtrain, Xtest, Ytrain, Ytest = train_test_split(X, Y, test_size=0.1, random_state=234)\n",
    "Xtrain, Xvalidate, Ytrain, Yvalidate = train_test_split(Xtrain, Ytrain, test_size=0.1, random_state=123)"
   ]
  },
  {
   "cell_type": "markdown",
   "metadata": {
    "id": "yJkv1FsrKCrc"
   },
   "source": [
    "Define a function that helps to show model performance - the confusion matrix and the accuracy score."
   ]
  },
  {
   "cell_type": "code",
   "execution_count": 97,
   "metadata": {
    "id": "lY3uFHEXk9Ei"
   },
   "outputs": [],
   "source": [
    "def plot_confusion_matrix(model, Xtest, ytest):  \n",
    "    # make preductions\n",
    "    predictions = model.predict(Xtest)\n",
    "    # deal with outputs from different models\n",
    "    if len(predictions.shape) > 1:\n",
    "      predictions = np.argmax(predictions, axis=1)\n",
    "    # plot the confusion matrix\n",
    "    cm = confusion_matrix(ytest, predictions)\n",
    "    plt.figure(figsize=(6,4))\n",
    "    sns.heatmap(cm, cmap=plt.cm.Blues, annot=True, fmt='d', \n",
    "                xticklabels=sentiments,\n",
    "                yticklabels=sentiments)\n",
    "    acc = accuracy_score(ytest, predictions)\n",
    "    # print the accuracy score in the title of plots\n",
    "    plt.title('Model Accuracy: {acc:.4f}'.format(acc=acc), fontsize=10)\n",
    "    plt.xlabel('Actual Label', fontsize=10)\n",
    "    plt.ylabel('Predicted Label', fontsize=10)"
   ]
  },
  {
   "cell_type": "markdown",
   "metadata": {
    "id": "PzfvUbH-KCrc"
   },
   "source": [
    "With all the processed data, we can start to experiment with different models."
   ]
  },
  {
   "cell_type": "markdown",
   "metadata": {
    "id": "hJyqIx-g3ibU"
   },
   "source": [
    "<a id=\"7\"></a>\n",
    "## Linear Classification Models"
   ]
  },
  {
   "cell_type": "code",
   "execution_count": 98,
   "metadata": {
    "id": "JxBikgdiczGE"
   },
   "outputs": [],
   "source": [
    "from sklearn.linear_model import LogisticRegression, SGDClassifier\n",
    "from sklearn.ensemble import RandomForestClassifier\n",
    "from sklearn.pipeline import Pipeline\n",
    "from sklearn.feature_extraction.text import CountVectorizer, TfidfTransformer\n",
    "from sklearn.metrics import accuracy_score"
   ]
  },
  {
   "cell_type": "markdown",
   "metadata": {
    "id": "NWt4jCs2KCrc"
   },
   "source": [
    "We start with linear models as they are the simplest ones for classification tasks.\n",
    "\n",
    "To fit text data to linear models, we make use of two techniques: `CountVectorizer` and `TfidfTransformer`.\n",
    "\n",
    "`CountVectorizer` is a text feature extraction technique that converts a collection of text documents into a matrix of word counts. It takes as input a corpus of text and outputs a sparse matrix where each row represents a document and each column represents a word in the vocabulary, with the entry indicating the frequency of that word in the corresponding document.\n",
    "\n",
    "`TfdifTransformer` is another technique that is used to transform raw text into a numerical representation. It assigns a weight to each word in the text based on its frequency and inverse document frequency, which helps to identify the most important words in the text for a given classification task.\n",
    "\n",
    "We initialize a `CountVectorizer` and a `TfdifTransformer` object with our model in a pipeline. This will make fitting data much simpler."
   ]
  },
  {
   "cell_type": "markdown",
   "metadata": {
    "id": "r5vM2DMs34n-"
   },
   "source": [
    "<a id=\"8\"></a>\n",
    "### 1. Logistic Regression"
   ]
  },
  {
   "cell_type": "markdown",
   "metadata": {
    "id": "n1TRNSpdQZnl"
   },
   "source": [
    "We start with applying a logistic regression model to our data. Logistic regression works by computing a probability score for each sentiment label, indicating the likelihood that a given text sample is of that particular sentiment. The model can then return the label with the highest probability score. It is fast in training and making predictions but might not work well if the relationship embedded within the data is non-linear. In a text classification task, it is however hard to check for linearity.\n",
    "\n",
    "We fit our data to a logistic regression model with most of its parameters default, as hyperparameter tunning can be computationally expensive given our sample size. Normally, it is usual to look for optimal performance by applying regularization strength to the model. After training, we show its confusion matrix and the accuracy score while make predictions using the test set."
   ]
  },
  {
   "cell_type": "code",
   "execution_count": 99,
   "metadata": {
    "colab": {
     "base_uri": "https://localhost:8080/",
     "height": 407
    },
    "id": "QaVUpi5kkq3m",
    "outputId": "c03cea15-b8e8-4a97-920b-1c6c49cf27e9"
   },
   "outputs": [
    {
     "data": {
      "image/png": "[encoded data removed]",
      "text/plain": [
       "<Figure size 600x400 with 2 Axes>"
      ]
     },
     "metadata": {},
     "output_type": "display_data"
    }
   ],
   "source": [
    "logreg = Pipeline([('cv', CountVectorizer()),\n",
    "                   ('tt', TfidfTransformer()),\n",
    "                   ('lr', LogisticRegression(max_iter=500))])\n",
    "\n",
    "logreg.fit(Xtrain, Ytrain)\n",
    "\n",
    "plot_confusion_matrix(logreg, Xtest, Ytest)"
   ]
  },
  {
   "cell_type": "markdown",
   "metadata": {
    "id": "DYuTeumKTNgc"
   },
   "source": [
    "The logistic regression model gives us an almost 82% accuracy in making predictions."
   ]
  },
  {
   "cell_type": "markdown",
   "metadata": {
    "id": "v_L6pltD4BSM"
   },
   "source": [
    "<a id=\"9\"></a>\n",
    "### 2. Support Vector Machine"
   ]
  },
  {
   "cell_type": "markdown",
   "metadata": {
    "id": "wIam8Ub5U6XF"
   },
   "source": [
    "The support vector machine (SVM) is another model that can be applied to the text classification task, known for their ability to handle high-dimensional data and nonlinear relationships between features. SVM works by mapping the text data into a high-dimensional feature space and finding a hyperplane that maximally separates the different labels.\n",
    "\n",
    "However, a significant drawback of SVM is that it is super computationally expensive to train, especially given our enormous sample size. Due to this concern, instead of using the `svm` class from the `sklearn` library, we initialize a `SGDClassifier` object as an alternative to experiment with. With default parameters, it gives a SVM model, but this prevents us from hyperparameter tunning, exploring different sets of values for the `SVC` object parameters, such as the kernel functions and the regularization parameter.\n",
    "\n",
    "It can be expected that the performance of our SVM might be not so promising, as it is very sensitive to the choice of hyperparameters. Either way, we take a look at how it goes with our data and compare the performance with that of the previous logistic regression model."
   ]
  },
  {
   "cell_type": "code",
   "execution_count": 100,
   "metadata": {
    "colab": {
     "base_uri": "https://localhost:8080/",
     "height": 407
    },
    "id": "5oigcR1vq_ty",
    "outputId": "586d2cd5-a9cb-41ea-8464-0cc125e1c519"
   },
   "outputs": [
    {
     "data": {
      "image/png": "[encoded data removed]",
      "text/plain": [
       "<Figure size 600x400 with 2 Axes>"
      ]
     },
     "metadata": {},
     "output_type": "display_data"
    }
   ],
   "source": [
    "svm = Pipeline([('cv', CountVectorizer()),\n",
    "                ('tt', TfidfTransformer()),\n",
    "                ('svm', SGDClassifier(random_state=452))])\n",
    "\n",
    "svm.fit(Xtrain, Ytrain)\n",
    "\n",
    "plot_confusion_matrix(svm, Xtest, Ytest)"
   ]
  },
  {
   "cell_type": "markdown",
   "metadata": {
    "id": "-N1mNuelYo1s"
   },
   "source": [
    "The SVM model gives us a 76% accuracy in making predictions, which is 6% lower than that of the logistic regression model."
   ]
  },
  {
   "cell_type": "markdown",
   "metadata": {
    "id": "NJMUxARi4Eyt"
   },
   "source": [
    "<a id=\"10\"></a>\n",
    "## Recurrent Neural Networks"
   ]
  },
  {
   "cell_type": "code",
   "execution_count": 101,
   "metadata": {
    "id": "rCxOuTJga-mm"
   },
   "outputs": [],
   "source": [
    "from tensorflow.keras.preprocessing.text import Tokenizer\n",
    "from tensorflow.keras.preprocessing.sequence import pad_sequences\n",
    "from tensorflow.keras.layers import Dense, Input, MaxPooling1D, Conv1D, LSTM, GRU, Embedding, Bidirectional, Dropout\n",
    "from tensorflow.keras.models import Model, Sequential\n",
    "from tensorflow.keras import regularizers\n",
    "from sklearn.metrics import confusion_matrix"
   ]
  },
  {
   "cell_type": "markdown",
   "metadata": {
    "id": "YSqHb0K4-GuW"
   },
   "source": [
    "While linear models are simple and effective approaches for text classification tasks, they are relatively weak in learning more complex relationships between features and the classes, associations among words. While the logistic regression model and the support vector machine yielded pretty decent accuracy scores, but we wonder whether there are models other than linear ones that could have better performance.\n",
    "\n",
    "Another category of models to be considered would be neural networks, which can automatically learn hierarchical representations of the text data and thus capture more subtle, nuanced patterns that may not be immediately obvious from the raw text. As one of the most popular and effective choice of neural networks for text classification tasks, recurrent neural networks (RNNs) can model the temporal dependencies in the text data and thus learn context and semantics of natural languages. Unlike linear models, which typically require careful feature selection as well as preprocessing to achieve good performance, RNNs can automatically weight the most important features and thus ignore noises and redundancy in the data.\n",
    "\n",
    "Now, we will build and compare performances of two types of RNNs - bidirectional GRU and bidirectional LSTM. The ideas behind GRU and LSTM will be discussed later in this section. Bidirectional here in the context means the input sequence is processed in both forward and backward directions. This approach allows the network to capture not only the context before a given input sequence but also the context after and thus provides a more complete representation of the input sequence than either direction alone. For instance, consider the sentence _\"The Mathematics course at Vassar\"_ - in forward direction, the model will know the _\"course\"_ is about _\"Mathematics\"_, and in backward direction, the _\"course\"_ is at _\"Vassar\"_."
   ]
  },
  {
   "cell_type": "markdown",
   "metadata": {
    "id": "7m2oqw3i4LKp"
   },
   "source": [
    "<a id=\"11\"></a>\n",
    "### 1. Tokenization and Sequence Padding"
   ]
  },
  {
   "cell_type": "markdown",
   "metadata": {
    "id": "jcn9gH9tPg0k"
   },
   "source": [
    "Before fitting the text data to the RNNs, we process them into inputs of the appropriate shape and format.\n",
    "\n",
    "The first step is to tokenize the text data in the training, test, and validation sets. We initialize a `Tokenizer` object from the `Keras` library, specifying the `num_words` parameter with the maximum vocabulary size previously defined so that only the most frequently occurring words will be kept. Then, we fit the `Tokenizer` object on the training set, splitting all cleaned tweets into lists of words and generating the vocabulary. Finally, we call the `texts_to_sequences` method on all sets to convert the text data into sequences of integers, where each integer represents a token from the library."
   ]
  },
  {
   "cell_type": "code",
   "execution_count": 111,
   "metadata": {
    "id": "lbYFNDM64TuM"
   },
   "outputs": [],
   "source": [
    "tokenizer = Tokenizer(num_words=MAX_VOCAB_SIZE)\n",
    "tokenizer.fit_on_texts(Xtrain)\n",
    "sequences_train = tokenizer.texts_to_sequences(Xtrain)\n",
    "sequences_test = tokenizer.texts_to_sequences(Xtest)\n",
    "sequences_validate = tokenizer.texts_to_sequences(Xvalidate)"
   ]
  },
  {
   "cell_type": "markdown",
   "metadata": {
    "id": "Yitf2wKZS2Jz"
   },
   "source": [
    "Next, we obtain the dictionary of words using the `word_index` attribute and calculate the size of it.\n",
    "\n",
    "The dictionary size will later be used as the input size for the neural network models."
   ]
  },
  {
   "cell_type": "code",
   "execution_count": 112,
   "metadata": {
    "colab": {
     "base_uri": "https://localhost:8080/"
    },
    "id": "x07uxfP-bOQc",
    "outputId": "88fc6bf7-a020-4322-adf1-d219e79f655f"
   },
   "outputs": [
    {
     "data": {
      "text/plain": [
       "23911"
      ]
     },
     "execution_count": 112,
     "metadata": {},
     "output_type": "execute_result"
    }
   ],
   "source": [
    "word2idx = tokenizer.word_index\n",
    "V = len(word2idx)\n",
    "V"
   ]
  },
  {
   "cell_type": "markdown",
   "metadata": {
    "id": "zieq6EwqTtgl"
   },
   "source": [
    "The second step is to pad the text data in the training, test, and validation sets. Padding ensures that all input sequences are of the same length. If particular sequences are shorter than the specified length, padding will add zeros to the specified part of the sequences, which enables batch processing of the sequences using matrix operations.\n",
    "\n",
    "Here, we apply post-padding to the text data, which can be done by setting the `padding` parameter to `post` in the `pad_sequences` function from the `Keras` library. This will add zeros at the end of the sequences. The maximum length of sequences is defined by the longest sequence in the training set."
   ]
  },
  {
   "cell_type": "code",
   "execution_count": 113,
   "metadata": {
    "colab": {
     "base_uri": "https://localhost:8080/"
    },
    "id": "2rB6qnkfb5XP",
    "outputId": "e3bb0555-2149-4858-c1e0-521a03695bff"
   },
   "outputs": [
    {
     "name": "stdout",
     "output_type": "stream",
     "text": [
      "(59343, 129)\n",
      "(7327, 129)\n",
      "(6594, 129)\n"
     ]
    }
   ],
   "source": [
    "data_train = pad_sequences(sequences_train, padding='post')\n",
    "print(data_train.shape)\n",
    "\n",
    "T = data_train.shape[1]\n",
    "data_test = pad_sequences(sequences_test, padding='post', maxlen=T)\n",
    "print(data_test.shape)\n",
    "data_validate = pad_sequences(sequences_validate, padding='post', maxlen=T)\n",
    "print(data_validate.shape)"
   ]
  },
  {
   "cell_type": "markdown",
   "metadata": {
    "id": "KP2NoOTvezwp"
   },
   "source": [
    "Define a function that plots the training and the validation accuracy and loss through time."
   ]
  },
  {
   "cell_type": "code",
   "execution_count": 105,
   "metadata": {
    "id": "CTQQk7xWcMiz"
   },
   "outputs": [],
   "source": [
    "def plot_training_history(r):\n",
    "  fig, ax = plt.subplots(1, 2, figsize=(10,4))\n",
    "\n",
    "  # training and validation accuracy\n",
    "  ax[0].plot(r.history['accuracy'])\n",
    "  ax[0].plot(r.history['val_accuracy'])\n",
    "  ax[0].set_title('Accuracy')\n",
    "  ax[0].set_xlabel('epoch')\n",
    "  ax[0].set_ylabel('accuracy')\n",
    "  ax[0].legend(['train', 'validation'], loc='best')\n",
    "\n",
    "  # training and validation loss\n",
    "  ax[1].plot(r.history['loss'])\n",
    "  ax[1].plot(r.history['val_loss'])\n",
    "  ax[1].set_title('Loss')\n",
    "  ax[1].set_xlabel('epoch')\n",
    "  ax[1].set_ylabel('loss')\n",
    "  ax[1].legend(['train', 'validation'], loc='best')"
   ]
  },
  {
   "cell_type": "markdown",
   "metadata": {
    "id": "SVMbD8kLg5Le"
   },
   "source": [
    "Define some parameters for later neural network models."
   ]
  },
  {
   "cell_type": "code",
   "execution_count": 106,
   "metadata": {
    "id": "AWgG8V6lcOk3"
   },
   "outputs": [],
   "source": [
    "# no. of dimensions in the embedding space\n",
    "D = 32\n",
    "# M = 50\n",
    "epochs = 20\n",
    "batch_size = 512"
   ]
  },
  {
   "cell_type": "markdown",
   "metadata": {
    "id": "8whEH7dG4bvJ"
   },
   "source": [
    "<a id=\"12\"></a>\n",
    "### 2. Bidirectional GRU Model"
   ]
  },
  {
   "cell_type": "markdown",
   "metadata": {
    "id": "KY4BEVZ6iN8S"
   },
   "source": [
    "We at first train and test a bidirectional GRU model.\n",
    "\n",
    "A Gated Recurrent Unit (GRU) is a type of recurrent neural network that has a gating mechanism that controls the flow of information through the network, allowing it to selectively retain or discard information from the previous time step. It recurrently calculates update gate, reset gate vectors and hidden states. The update gate gives feedback to the model concerning wether we keep the past hidden satte, and the reset gate reinforce the ability to remember of forget components of the past hidden state. Eventually, the hidden state become the weighted sum of the previous hidden states and new values. GRU has faster training speed and better handling of long-term dependencies comparing to trainditional RNNs.\n",
    "\n",
    "It has fewer parameters than the LSTM model, which will be introduced after this section, and thus are faster to train and less prone to overfitting. However, this also makes it not as effectve as LSTM in capturing very long-term dependencies. Hopefully, the bidirectional processing can help us mitigate this issue. We fit our data to a bidirectional GRU model below and train it in 20 epochs."
   ]
  },
  {
   "cell_type": "code",
   "execution_count": 114,
   "metadata": {
    "id": "UMbDdiwO5SV_"
   },
   "outputs": [],
   "source": [
    "# build model\n",
    "bigru = Sequential()\n",
    "bigru.add(Embedding(V + 1, D, input_length=T))\n",
    "bigru.add(Dropout(0.1))\n",
    "bigru.add(Conv1D(filters=32, kernel_size=3, activation='relu'))\n",
    "bigru.add(MaxPooling1D(pool_size=2))\n",
    "bigru.add(Bidirectional(GRU(64, return_sequences=True)))\n",
    "bigru.add(Bidirectional(GRU(32, kernel_regularizer=regularizers.l2(0.01))))\n",
    "bigru.add(Dropout(0.1))\n",
    "bigru.add(Dense(3, activation='softmax'))\n",
    "\n",
    "# compile model\n",
    "bigru.compile(\n",
    "    loss='sparse_categorical_crossentropy',\n",
    "    optimizer='adam',\n",
    "    metrics='accuracy'\n",
    ")\n",
    "\n",
    "# train model\n",
    "bigru_r = bigru.fit(\n",
    "    data_train,\n",
    "    Ytrain,\n",
    "    epochs=epochs,\n",
    "    validation_data=(data_validate, Yvalidate),\n",
    "    batch_size=batch_size,\n",
    "    verbose=0\n",
    ")"
   ]
  },
  {
   "cell_type": "markdown",
   "metadata": {
    "id": "zqF_tRNnkJuc"
   },
   "source": [
    "Plot the training and the validation accuracy and loss."
   ]
  },
  {
   "cell_type": "code",
   "execution_count": 115,
   "metadata": {
    "colab": {
     "base_uri": "https://localhost:8080/",
     "height": 410
    },
    "id": "MUpbH_Bj-Ya2",
    "outputId": "831de6b2-9bcc-459d-e0b1-a4606cbb13c6"
   },
   "outputs": [
    {
     "data": {
      "image/png": "[encoded data removed]",
      "text/plain": [
       "<Figure size 1000x400 with 2 Axes>"
      ]
     },
     "metadata": {},
     "output_type": "display_data"
    }
   ],
   "source": [
    "plot_training_history(bigru_r)"
   ]
  },
  {
   "cell_type": "markdown",
   "metadata": {
    "id": "pRSi1IhSkO1l"
   },
   "source": [
    "Show the confusion matrix and the accuracy score."
   ]
  },
  {
   "cell_type": "code",
   "execution_count": 116,
   "metadata": {
    "colab": {
     "base_uri": "https://localhost:8080/",
     "height": 424
    },
    "id": "w7F2CpSUGA6j",
    "outputId": "36f263af-7277-4a4d-a805-d0bb248e3c14"
   },
   "outputs": [
    {
     "name": "stdout",
     "output_type": "stream",
     "text": [
      "229/229 [==============================] - 3s 6ms/step\n"
     ]
    },
    {
     "data": {
      "image/png": "[encoded data removed]",
      "text/plain": [
       "<Figure size 600x400 with 2 Axes>"
      ]
     },
     "metadata": {},
     "output_type": "display_data"
    }
   ],
   "source": [
    "plot_confusion_matrix(bigru, data_test, Ytest)"
   ]
  },
  {
   "cell_type": "markdown",
   "metadata": {
    "id": "VcvSuCdWkTOd"
   },
   "source": [
    "The bidirectional GRU model results in promising performance and achieve a 91% accuracy - about 10% higher than the logistic regression model!"
   ]
  },
  {
   "cell_type": "markdown",
   "metadata": {
    "id": "_QT6YFx84guJ"
   },
   "source": [
    "<a id=\"13\"></a>\n",
    "### 3. Bidrectional LSTM Model"
   ]
  },
  {
   "cell_type": "markdown",
   "metadata": {
    "id": "hTAg-gC2rWRQ"
   },
   "source": [
    "We then train and test a bidirectional LSTM model.\n",
    "\n",
    "Long Short-Term Memory (LSTM) is another type of recurrent neural network with a gating mechanism. The cell satte of LSTM stores the memory of the network, and it is controlled by three gates - the input gate, the forget gate, and the output gate. The input gate determines how much new information is allowed to enter the cell state, the forget gate controls how much of the previous cell state should be forgotten, and the output gate determines how much of the cell state should be returned at the current time step.\n",
    "\n",
    "LSTM has more parameters than the GRU model, and this feature endows it with more power to model long-term dependencies in data. On the other hand, it is computationally expensive and more susceptible to overfitting. Given the complexity of our data, it is hard to predict which one between GRU and LSTM is the better model. We fit our data to a bidirectional LSTM model below and train it in 20 epochs."
   ]
  },
  {
   "cell_type": "code",
   "execution_count": 117,
   "metadata": {
    "id": "tZsEN35XsQ-m"
   },
   "outputs": [],
   "source": [
    "# build model\n",
    "bilstm = Sequential()\n",
    "bilstm.add(Embedding(V + 1, D, input_length=T))\n",
    "bilstm.add(Dropout(0.1))\n",
    "bilstm.add(Conv1D(filters=32, kernel_size=3, activation='relu'))\n",
    "bilstm.add(MaxPooling1D(pool_size=2))\n",
    "bilstm.add(Bidirectional(LSTM(64, return_sequences=True)))\n",
    "bilstm.add(Bidirectional(LSTM(32, kernel_regularizer=regularizers.l2(0.01))))\n",
    "bilstm.add(Dropout(0.1))\n",
    "bilstm.add(Dense(3, activation='softmax'))\n",
    "\n",
    "# compile model\n",
    "bilstm.compile(\n",
    "    loss='sparse_categorical_crossentropy',\n",
    "    optimizer='adam',\n",
    "    metrics='accuracy'\n",
    ")\n",
    "\n",
    "# train model\n",
    "bilstm_r = bilstm.fit(\n",
    "    data_train,\n",
    "    Ytrain,\n",
    "    epochs=epochs,\n",
    "    validation_data=(data_validate, Yvalidate),\n",
    "    batch_size=batch_size,\n",
    "    verbose=0\n",
    ")"
   ]
  },
  {
   "cell_type": "markdown",
   "metadata": {
    "id": "x8EV794XvDDT"
   },
   "source": [
    "Plot the training and the validation accuracy and loss."
   ]
  },
  {
   "cell_type": "code",
   "execution_count": 118,
   "metadata": {
    "colab": {
     "base_uri": "https://localhost:8080/",
     "height": 410
    },
    "id": "QAvRyR2p_zUf",
    "outputId": "cc13ba1c-e61e-41d3-970b-b5db653ea9bf"
   },
   "outputs": [
    {
     "data": {
      "image/png": "[encoded data removed]",
      "text/plain": [
       "<Figure size 1000x400 with 2 Axes>"
      ]
     },
     "metadata": {},
     "output_type": "display_data"
    }
   ],
   "source": [
    "plot_training_history(bilstm_r)"
   ]
  },
  {
   "cell_type": "markdown",
   "metadata": {
    "id": "GaHYNbUpvIBP"
   },
   "source": [
    "Show the confusion matrix and the accuracy score."
   ]
  },
  {
   "cell_type": "code",
   "execution_count": 119,
   "metadata": {
    "colab": {
     "base_uri": "https://localhost:8080/",
     "height": 424
    },
    "id": "Qo1PsaY2F-Jj",
    "outputId": "b9564186-460f-46c9-cbf4-76949f52d1a3"
   },
   "outputs": [
    {
     "name": "stdout",
     "output_type": "stream",
     "text": [
      "229/229 [==============================] - 3s 6ms/step\n"
     ]
    },
    {
     "data": {
      "image/png": "[encoded data removed]",
      "text/plain": [
       "<Figure size 600x400 with 2 Axes>"
      ]
     },
     "metadata": {},
     "output_type": "display_data"
    }
   ],
   "source": [
    "plot_confusion_matrix(bilstm, data_test, Ytest)"
   ]
  },
  {
   "cell_type": "markdown",
   "metadata": {
    "id": "IrGKq48jvMTJ"
   },
   "source": [
    "The bidirectional LSTM model results in promising performance and achieve a 90% accuracy, which is comparable with the bidirectional GRU model."
   ]
  },
  {
   "cell_type": "markdown",
   "metadata": {
    "id": "9wyCT0Sq4k3V"
   },
   "source": [
    "<a id=\"14\"></a>\n",
    "## BERT"
   ]
  },
  {
   "cell_type": "code",
   "execution_count": null,
   "metadata": {},
   "outputs": [],
   "source": [
    "# !pip install ktrain\n",
    "from ktrain import text\n",
    "from ktrain import get_learner"
   ]
  },
  {
   "cell_type": "markdown",
   "metadata": {
    "id": "xrer_5CEv_W0"
   },
   "source": [
    "After making sentiment analysis with both linear models and neural networks, we briefly walk through BERT (Bidirectional Encoder Representations from Transformers), a pre-trained language model developed by Google in 2018.\n",
    "\n",
    "BERT a state-of-the-art language model that can be fine-tuned on a wide range of natural language processing tasks. Its transformer-based architecture provides it with great capability to understand text in context. Transformer is a deep learning model in which every output is connected to every input, and the weightings between them are dynamically calculated based upon their connection, a process that is known as the attention mechanism. Given these information, it can be expected that BERT can outperform all previous models.\n",
    "\n",
    "We start with load the pre-trained BERT model using the `get_learner` function from the `ktrain` library."
   ]
  },
  {
   "cell_type": "code",
   "execution_count": 71,
   "metadata": {
    "colab": {
     "base_uri": "https://localhost:8080/",
     "height": 402
    },
    "id": "J91r4i_dwDKQ",
    "outputId": "483b9099-3187-467b-d93b-9cd8f66c515b"
   },
   "outputs": [
    {
     "name": "stdout",
     "output_type": "stream",
     "text": [
      "downloading pretrained BERT model (uncased_L-12_H-768_A-12.zip)...\n",
      "[██████████████████████████████████████████████████]\n",
      "extracting pretrained BERT model...\n",
      "done.\n",
      "\n",
      "cleanup downloaded zip...\n",
      "done.\n",
      "\n",
      "preprocessing train...\n",
      "language: en\n"
     ]
    },
    {
     "data": {
      "text/html": [
       "\n",
       "<style>\n",
       "    /* Turns off some styling */\n",
       "    progress {\n",
       "        /* gets rid of default border in Firefox and Opera. */\n",
       "        border: none;\n",
       "        /* Needs to be in here for Safari polyfill so background images work as expected. */\n",
       "        background-size: auto;\n",
       "    }\n",
       "    progress:not([value]), progress:not([value])::-webkit-progress-bar {\n",
       "        background: repeating-linear-gradient(45deg, #7e7e7e, #7e7e7e 10px, #5c5c5c 10px, #5c5c5c 20px);\n",
       "    }\n",
       "    .progress-bar-interrupted, .progress-bar-interrupted::-webkit-progress-bar {\n",
       "        background: #F44336;\n",
       "    }\n",
       "</style>\n"
      ],
      "text/plain": [
       "<IPython.core.display.HTML object>"
      ]
     },
     "metadata": {},
     "output_type": "display_data"
    },
    {
     "data": {
      "text/html": [
       "done."
      ],
      "text/plain": [
       "<IPython.core.display.HTML object>"
      ]
     },
     "metadata": {},
     "output_type": "display_data"
    },
    {
     "name": "stdout",
     "output_type": "stream",
     "text": [
      "Is Multi-Label? False\n",
      "preprocessing test...\n",
      "language: en\n"
     ]
    },
    {
     "data": {
      "text/html": [
       "\n",
       "<style>\n",
       "    /* Turns off some styling */\n",
       "    progress {\n",
       "        /* gets rid of default border in Firefox and Opera. */\n",
       "        border: none;\n",
       "        /* Needs to be in here for Safari polyfill so background images work as expected. */\n",
       "        background-size: auto;\n",
       "    }\n",
       "    progress:not([value]), progress:not([value])::-webkit-progress-bar {\n",
       "        background: repeating-linear-gradient(45deg, #7e7e7e, #7e7e7e 10px, #5c5c5c 10px, #5c5c5c 20px);\n",
       "    }\n",
       "    .progress-bar-interrupted, .progress-bar-interrupted::-webkit-progress-bar {\n",
       "        background: #F44336;\n",
       "    }\n",
       "</style>\n"
      ],
      "text/plain": [
       "<IPython.core.display.HTML object>"
      ]
     },
     "metadata": {},
     "output_type": "display_data"
    },
    {
     "data": {
      "text/html": [
       "done."
      ],
      "text/plain": [
       "<IPython.core.display.HTML object>"
      ]
     },
     "metadata": {},
     "output_type": "display_data"
    },
    {
     "name": "stdout",
     "output_type": "stream",
     "text": [
      "task: text classification\n",
      "Is Multi-Label? False\n",
      "maxlen is 350\n"
     ]
    },
    {
     "name": "stderr",
     "output_type": "stream",
     "text": [
      "/usr/local/lib/python3.10/dist-packages/keras/initializers/initializers.py:120: UserWarning: The initializer GlorotNormal is unseeded and being called multiple times, which will return identical values each time (even if the initializer is unseeded). Please update your code to provide a seed to the initializer, or avoid using the same initalizer instance more than once.\n",
      "  warnings.warn(\n"
     ]
    },
    {
     "name": "stdout",
     "output_type": "stream",
     "text": [
      "done.\n"
     ]
    }
   ],
   "source": [
    "(Xtrain, Ytrain), (Xtest, Ytest), prep = text.texts_from_array(x_train=Xtrain.to_numpy(),\n",
    "                                                               x_test=Xtest.to_numpy(),\n",
    "                                                               y_train=Ytrain,\n",
    "                                                               y_test=Ytest,\n",
    "                                                               class_names=sentiments,\n",
    "                                                               preprocess_mode='bert',\n",
    "                                                               maxlen=350)\n",
    "bert = text.text_classifier('bert', train_data=(Xtrain, Ytrain), preproc=prep)\n",
    "learner = get_learner(bert, train_data=(Xtrain, Ytrain), batch_size=6)"
   ]
  },
  {
   "cell_type": "markdown",
   "metadata": {
    "id": "A-sxzWyb1M52"
   },
   "source": [
    "Then, we use the `fit_onecycle` function to train our model.\n",
    "\n",
    "Be careful to run this chunk as the training process is extremely computationally expensive!"
   ]
  },
  {
   "cell_type": "code",
   "execution_count": null,
   "metadata": {
    "colab": {
     "base_uri": "https://localhost:8080/"
    },
    "id": "Zmx3sMPVxpId",
    "outputId": "42435b26-a086-411e-99b6-dfe5be7e0296"
   },
   "outputs": [
    {
     "name": "stdout",
     "output_type": "stream",
     "text": [
      "\n",
      "\n",
      "begin training using onecycle policy with max lr of 2e-05...\n",
      "Epoch 1/4\n",
      "9891/9891 [==============================] - 1805s 180ms/step - loss: 0.7526 - accuracy: 0.6582\n",
      "Epoch 2/4\n",
      "9891/9891 [==============================] - 1786s 181ms/step - loss: 0.4010 - accuracy: 0.8443\n",
      "Epoch 3/4\n",
      "9891/9891 [==============================] - 1783s 180ms/step - loss: 0.1700 - accuracy: 0.9381\n",
      "Epoch 4/4\n",
      "9891/9891 [==============================] - 1783s 180ms/step - loss: 0.0586 - accuracy: 0.9772\n"
     ]
    },
    {
     "data": {
      "text/plain": [
       "<keras.callbacks.History at 0x7f0d1df6f850>"
      ]
     },
     "execution_count": 100,
     "metadata": {},
     "output_type": "execute_result"
    }
   ],
   "source": [
    "# took me 2 hours to train\n",
    "learner.fit_onecycle(2e-5,4)"
   ]
  },
  {
   "cell_type": "markdown",
   "metadata": {
    "id": "edT8mpm11vpR"
   },
   "source": [
    "Finally, validate the model using the test set."
   ]
  },
  {
   "cell_type": "code",
   "execution_count": null,
   "metadata": {
    "colab": {
     "base_uri": "https://localhost:8080/"
    },
    "id": "jdxJobmcNLtj",
    "outputId": "a09ebe33-7383-4a83-b4b7-a751bba5c15d"
   },
   "outputs": [
    {
     "name": "stdout",
     "output_type": "stream",
     "text": [
      "229/229 [==============================] - 65s 263ms/step\n",
      "              precision    recall  f1-score   support\n",
      "\n",
      "    Positive       0.94      0.94      0.94      2157\n",
      "     Neutral       0.94      0.96      0.95      3095\n",
      "    Negative       0.94      0.92      0.93      2075\n",
      "\n",
      "    accuracy                           0.94      7327\n",
      "   macro avg       0.94      0.94      0.94      7327\n",
      "weighted avg       0.94      0.94      0.94      7327\n",
      "\n"
     ]
    },
    {
     "data": {
      "text/plain": [
       "array([[2028,   85,   44],\n",
       "       [  68, 2959,   68],\n",
       "       [  68,  101, 1906]])"
      ]
     },
     "execution_count": 102,
     "metadata": {},
     "output_type": "execute_result"
    }
   ],
   "source": [
    "learner.validate(val_data=(Xtest, Ytest), class_names=sentiments)"
   ]
  },
  {
   "cell_type": "markdown",
   "metadata": {
    "id": "YXX6Xod016Ub"
   },
   "source": [
    "As expected, our trained BERT gives us a 94% accuracy, about 3% higher than the bidirectional GRU model as well as the bidirectional LSTM model. However, given its slow training speed, maybe the neural network models are more appropriate for our task on local machines."
   ]
  }
 ],
 "metadata": {
  "accelerator": "GPU",
  "colab": {
   "gpuType": "V100",
   "machine_shape": "hm",
   "provenance": []
  },
  "gpuClass": "standard",
  "kernelspec": {
   "display_name": "Python 3 (ipykernel)",
   "language": "python",
   "name": "python3"
  },
  "language_info": {
   "codemirror_mode": {
    "name": "ipython",
    "version": 3
   },
   "file_extension": ".py",
   "mimetype": "text/x-python",
   "name": "python",
   "nbconvert_exporter": "python",
   "pygments_lexer": "ipython3",
   "version": "3.10.9"
  }
 },
 "nbformat": 4,
 "nbformat_minor": 1
}
